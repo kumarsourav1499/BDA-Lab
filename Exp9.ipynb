{
  "nbformat": 4,
  "nbformat_minor": 0,
  "metadata": {
    "colab": {
      "name": "Exp9.ipynb",
      "provenance": [],
      "authorship_tag": "ABX9TyNbOSi5Gx43gvH4EQzvAEpd",
      "include_colab_link": true
    },
    "kernelspec": {
      "name": "python3",
      "display_name": "Python 3"
    },
    "language_info": {
      "name": "python"
    }
  },
  "cells": [
    {
      "cell_type": "markdown",
      "metadata": {
        "id": "view-in-github",
        "colab_type": "text"
      },
      "source": [
        "<a href=\"https://colab.research.google.com/github/kumarsourav1499/BDA-Lab/blob/main/Exp9.ipynb\" target=\"_parent\"><img src=\"https://colab.research.google.com/assets/colab-badge.svg\" alt=\"Open In Colab\"/></a>"
      ]
    },
    {
      "cell_type": "code",
      "execution_count": 12,
      "metadata": {
        "id": "Ya3LQnoo64bK"
      },
      "outputs": [],
      "source": [
        "import networkx as nx\n",
        "import pylab as plt"
      ]
    },
    {
      "cell_type": "code",
      "source": [
        "# Create blank graph\n",
        "D = nx.DiGraph()"
      ],
      "metadata": {
        "id": "VyxsuqvA7DGv"
      },
      "execution_count": 13,
      "outputs": []
    },
    {
      "cell_type": "code",
      "source": [
        "#Feed page link to graph\n",
        "D.add_weighted_edges_from([('A','B',1),('A','C',1),('C','A',1),('B','C',1)])"
      ],
      "metadata": {
        "id": "EHm7JoOL7IKB"
      },
      "execution_count": 14,
      "outputs": []
    },
    {
      "cell_type": "code",
      "source": [
        "#Print page rank for each pages\n",
        "print(nx.pagerank(D))"
      ],
      "metadata": {
        "colab": {
          "base_uri": "https://localhost:8080/"
        },
        "id": "KTpGelma7KcD",
        "outputId": "ab322993-da34-4bf4-984d-9119235df99d"
      },
      "execution_count": 15,
      "outputs": [
        {
          "output_type": "stream",
          "name": "stdout",
          "text": [
            "{'A': 0.387789442707259, 'B': 0.21481051315058508, 'C': 0.3974000441421556}\n"
          ]
        }
      ]
    },
    {
      "cell_type": "code",
      "source": [
        "# Plot graph\n",
        "nx.draw(D, with_labels=True)\n",
        "plt.show()"
      ],
      "metadata": {
        "colab": {
          "base_uri": "https://localhost:8080/",
          "height": 319
        },
        "id": "aSS--YHiMQsI",
        "outputId": "ea6718b9-0632-410f-aca7-7b89438d62e8"
      },
      "execution_count": 16,
      "outputs": [
        {
          "output_type": "display_data",
          "data": {
            "text/plain": [
              "<Figure size 432x288 with 1 Axes>"
            ],
            "image/png": "[encoded data removed]"
          },
          "metadata": {}
        }
      ]
    }
  ]
}